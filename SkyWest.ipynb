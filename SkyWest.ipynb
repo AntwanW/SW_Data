{
 "cells": [
  {
   "cell_type": "code",
   "execution_count": 172,
   "metadata": {},
   "outputs": [],
   "source": [
    "# Dependencies and Setup\n",
    "import pandas as pd\n",
    "import numpy as np\n",
    "import csv\n",
    "import os"
   ]
  },
  {
   "cell_type": "code",
   "execution_count": 173,
   "metadata": {},
   "outputs": [],
   "source": [
    "# File to Load (Remember to change the path if needed.)\n",
    "SkyWest = \"OJI homework1 copy.csv\""
   ]
  },
  {
   "cell_type": "code",
   "execution_count": 174,
   "metadata": {},
   "outputs": [
    {
     "name": "stdout",
     "output_type": "stream",
     "text": [
      "     OnCompany Property Department Injury Location  \\\n",
      "0                  True         CS             SLC   \n",
      "1                  True         CS             DEN   \n",
      "2                  True         CS             DEN   \n",
      "3                  True         CS             FCA   \n",
      "4                  True         IF             ATL   \n",
      "..                  ...        ...             ...   \n",
      "367                True         CS             SFO   \n",
      "368                True         CS             SLC   \n",
      "369                True         CS             DRO   \n",
      "370                True         CS             GCC   \n",
      "371                True         CS             COS   \n",
      "\n",
      "    Injury Location - City State Zip Injury Location - County/Country  \\\n",
      "0            Salt Lake City UT 84113                        Salt Lake   \n",
      "1                    Denver CO 80249                           Denver   \n",
      "2                    Denver CO 80249                           Denver   \n",
      "3                 Kalispell MT 59901                         Flathead   \n",
      "4                   Atlanta GA 30320                              NaN   \n",
      "..                               ...                              ...   \n",
      "367           San Francisco CA 94128                    San Francisco   \n",
      "368          Salt Lake City UT 84113                        Salt Lake   \n",
      "369                 Durango CO 81303                          Durango   \n",
      "370                Gillette WY 82716                         Campbell   \n",
      "371        Colorado Springs CO 80916                          El Paso   \n",
      "\n",
      "                Injury Location - Notes           Med Care Used Reported Date  \\\n",
      "0                       The E Concourse                     Yes      9/2/2014   \n",
      "1                              Gates 52  Yes: Refused Initially      9/8/2014   \n",
      "2                              RAMP #54                     Yes      9/1/2014   \n",
      "3                       bin of airplane                     Yes    11/25/2014   \n",
      "4                               Onboard                      No      9/3/2014   \n",
      "..                                  ...                     ...           ...   \n",
      "367                         Ramp Stairs                      No    11/28/2014   \n",
      "368                         B Concourse  Yes: Refused Initially    11/30/2014   \n",
      "369                                Ramp                     Yes    11/30/2014   \n",
      "370  in cargo bin loading/stacking bags                      No    11/30/2014   \n",
      "371                     baggage service                     Yes     12/2/2014   \n",
      "\n",
      "     Season Shift  ... Baggage Involved.1 Baggage Location Whose Baggage  \\\n",
      "0    Summer    AM  ...                NaN              NaN           NaN   \n",
      "1    Summer    AM  ...                NaN              NaN           NaN   \n",
      "2    Summer    AM  ...                NaN              NaN           NaN   \n",
      "3      Fall    PM  ...                NaN              NaN           NaN   \n",
      "4    Summer    AM  ...                NaN              NaN           NaN   \n",
      "..      ...   ...  ...                ...              ...           ...   \n",
      "367    Fall    AM  ...                NaN              NaN           NaN   \n",
      "368    Fall   NaN  ...              False              NaN           NaN   \n",
      "369    Fall    AM  ...                NaN              NaN           NaN   \n",
      "370    Fall    AM  ...                NaN              NaN           NaN   \n",
      "371    Fall    PM  ...                NaN              NaN           NaN   \n",
      "\n",
      "    Aircraft Equipment Aircraft Location Aircraft Movement  \\\n",
      "0                  NaN               NaN               NaN   \n",
      "1                  NaN               NaN               NaN   \n",
      "2                  NaN               NaN               NaN   \n",
      "3                  NaN               NaN               NaN   \n",
      "4                  NaN               NaN               NaN   \n",
      "..                 ...               ...               ...   \n",
      "367                NaN               NaN               NaN   \n",
      "368           Jumpseat         In Flight               NaN   \n",
      "369                NaN               NaN               NaN   \n",
      "370                NaN               NaN               NaN   \n",
      "371                NaN               NaN               NaN   \n",
      "\n",
      "    Briefed of Turbulence Flight Phase      Injury Location.1  \\\n",
      "0                     NaN          NaN                    NaN   \n",
      "1                     NaN          NaN                    NaN   \n",
      "2                     NaN          NaN                    NaN   \n",
      "3                     NaN          NaN                    NaN   \n",
      "4                     NaN          NaN                    NaN   \n",
      "..                    ...          ...                    ...   \n",
      "367                   NaN          NaN                    NaN   \n",
      "368                   NaN          NaN  Forward/Rear Jumpseat   \n",
      "369                   NaN          NaN                    NaN   \n",
      "370                   NaN          NaN                    NaN   \n",
      "371                   NaN          NaN                    NaN   \n",
      "\n",
      "    Turbulence Contributed  \n",
      "0                      NaN  \n",
      "1                      NaN  \n",
      "2                      NaN  \n",
      "3                      NaN  \n",
      "4                      NaN  \n",
      "..                     ...  \n",
      "367                    NaN  \n",
      "368                  False  \n",
      "369                    NaN  \n",
      "370                    NaN  \n",
      "371                    NaN  \n",
      "\n",
      "[372 rows x 79 columns]\n"
     ]
    },
    {
     "data": {
      "text/html": [
       "<div>\n",
       "<style scoped>\n",
       "    .dataframe tbody tr th:only-of-type {\n",
       "        vertical-align: middle;\n",
       "    }\n",
       "\n",
       "    .dataframe tbody tr th {\n",
       "        vertical-align: top;\n",
       "    }\n",
       "\n",
       "    .dataframe thead th {\n",
       "        text-align: right;\n",
       "    }\n",
       "</style>\n",
       "<table border=\"1\" class=\"dataframe\">\n",
       "  <thead>\n",
       "    <tr style=\"text-align: right;\">\n",
       "      <th></th>\n",
       "      <th>OnCompany Property</th>\n",
       "      <th>Department</th>\n",
       "      <th>Injury Location</th>\n",
       "      <th>Injury Location - City State Zip</th>\n",
       "      <th>Injury Location - County/Country</th>\n",
       "      <th>Injury Location - Notes</th>\n",
       "      <th>Med Care Used</th>\n",
       "      <th>Reported Date</th>\n",
       "      <th>Season</th>\n",
       "      <th>Shift</th>\n",
       "      <th>...</th>\n",
       "      <th>Baggage Involved.1</th>\n",
       "      <th>Baggage Location</th>\n",
       "      <th>Whose Baggage</th>\n",
       "      <th>Aircraft Equipment</th>\n",
       "      <th>Aircraft Location</th>\n",
       "      <th>Aircraft Movement</th>\n",
       "      <th>Briefed of Turbulence</th>\n",
       "      <th>Flight Phase</th>\n",
       "      <th>Injury Location.1</th>\n",
       "      <th>Turbulence Contributed</th>\n",
       "    </tr>\n",
       "  </thead>\n",
       "  <tbody>\n",
       "    <tr>\n",
       "      <th>0</th>\n",
       "      <td>True</td>\n",
       "      <td>CS</td>\n",
       "      <td>SLC</td>\n",
       "      <td>Salt Lake City UT 84113</td>\n",
       "      <td>Salt Lake</td>\n",
       "      <td>The E Concourse</td>\n",
       "      <td>Yes</td>\n",
       "      <td>9/2/2014</td>\n",
       "      <td>Summer</td>\n",
       "      <td>AM</td>\n",
       "      <td>...</td>\n",
       "      <td>NaN</td>\n",
       "      <td>NaN</td>\n",
       "      <td>NaN</td>\n",
       "      <td>NaN</td>\n",
       "      <td>NaN</td>\n",
       "      <td>NaN</td>\n",
       "      <td>NaN</td>\n",
       "      <td>NaN</td>\n",
       "      <td>NaN</td>\n",
       "      <td>NaN</td>\n",
       "    </tr>\n",
       "    <tr>\n",
       "      <th>1</th>\n",
       "      <td>True</td>\n",
       "      <td>CS</td>\n",
       "      <td>DEN</td>\n",
       "      <td>Denver CO 80249</td>\n",
       "      <td>Denver</td>\n",
       "      <td>Gates 52</td>\n",
       "      <td>Yes: Refused Initially</td>\n",
       "      <td>9/8/2014</td>\n",
       "      <td>Summer</td>\n",
       "      <td>AM</td>\n",
       "      <td>...</td>\n",
       "      <td>NaN</td>\n",
       "      <td>NaN</td>\n",
       "      <td>NaN</td>\n",
       "      <td>NaN</td>\n",
       "      <td>NaN</td>\n",
       "      <td>NaN</td>\n",
       "      <td>NaN</td>\n",
       "      <td>NaN</td>\n",
       "      <td>NaN</td>\n",
       "      <td>NaN</td>\n",
       "    </tr>\n",
       "    <tr>\n",
       "      <th>2</th>\n",
       "      <td>True</td>\n",
       "      <td>CS</td>\n",
       "      <td>DEN</td>\n",
       "      <td>Denver CO 80249</td>\n",
       "      <td>Denver</td>\n",
       "      <td>RAMP #54</td>\n",
       "      <td>Yes</td>\n",
       "      <td>9/1/2014</td>\n",
       "      <td>Summer</td>\n",
       "      <td>AM</td>\n",
       "      <td>...</td>\n",
       "      <td>NaN</td>\n",
       "      <td>NaN</td>\n",
       "      <td>NaN</td>\n",
       "      <td>NaN</td>\n",
       "      <td>NaN</td>\n",
       "      <td>NaN</td>\n",
       "      <td>NaN</td>\n",
       "      <td>NaN</td>\n",
       "      <td>NaN</td>\n",
       "      <td>NaN</td>\n",
       "    </tr>\n",
       "    <tr>\n",
       "      <th>3</th>\n",
       "      <td>True</td>\n",
       "      <td>CS</td>\n",
       "      <td>FCA</td>\n",
       "      <td>Kalispell MT 59901</td>\n",
       "      <td>Flathead</td>\n",
       "      <td>bin of airplane</td>\n",
       "      <td>Yes</td>\n",
       "      <td>11/25/2014</td>\n",
       "      <td>Fall</td>\n",
       "      <td>PM</td>\n",
       "      <td>...</td>\n",
       "      <td>NaN</td>\n",
       "      <td>NaN</td>\n",
       "      <td>NaN</td>\n",
       "      <td>NaN</td>\n",
       "      <td>NaN</td>\n",
       "      <td>NaN</td>\n",
       "      <td>NaN</td>\n",
       "      <td>NaN</td>\n",
       "      <td>NaN</td>\n",
       "      <td>NaN</td>\n",
       "    </tr>\n",
       "    <tr>\n",
       "      <th>4</th>\n",
       "      <td>True</td>\n",
       "      <td>IF</td>\n",
       "      <td>ATL</td>\n",
       "      <td>Atlanta GA 30320</td>\n",
       "      <td>NaN</td>\n",
       "      <td>Onboard</td>\n",
       "      <td>No</td>\n",
       "      <td>9/3/2014</td>\n",
       "      <td>Summer</td>\n",
       "      <td>AM</td>\n",
       "      <td>...</td>\n",
       "      <td>NaN</td>\n",
       "      <td>NaN</td>\n",
       "      <td>NaN</td>\n",
       "      <td>NaN</td>\n",
       "      <td>NaN</td>\n",
       "      <td>NaN</td>\n",
       "      <td>NaN</td>\n",
       "      <td>NaN</td>\n",
       "      <td>NaN</td>\n",
       "      <td>NaN</td>\n",
       "    </tr>\n",
       "    <tr>\n",
       "      <th>5</th>\n",
       "      <td>False</td>\n",
       "      <td>FO</td>\n",
       "      <td>BNA</td>\n",
       "      <td>Nashville TN 37214</td>\n",
       "      <td>Davidson</td>\n",
       "      <td>Hotel Pool</td>\n",
       "      <td>Yes</td>\n",
       "      <td>9/2/2014</td>\n",
       "      <td>Summer</td>\n",
       "      <td>AM</td>\n",
       "      <td>...</td>\n",
       "      <td>NaN</td>\n",
       "      <td>NaN</td>\n",
       "      <td>NaN</td>\n",
       "      <td>NaN</td>\n",
       "      <td>NaN</td>\n",
       "      <td>NaN</td>\n",
       "      <td>NaN</td>\n",
       "      <td>NaN</td>\n",
       "      <td>NaN</td>\n",
       "      <td>NaN</td>\n",
       "    </tr>\n",
       "    <tr>\n",
       "      <th>6</th>\n",
       "      <td>False</td>\n",
       "      <td>CS</td>\n",
       "      <td>JAC</td>\n",
       "      <td>Jackson Hole WY 83001</td>\n",
       "      <td>Teton</td>\n",
       "      <td>Ramp</td>\n",
       "      <td>Yes</td>\n",
       "      <td>9/2/2014</td>\n",
       "      <td>Summer</td>\n",
       "      <td>AM</td>\n",
       "      <td>...</td>\n",
       "      <td>NaN</td>\n",
       "      <td>NaN</td>\n",
       "      <td>NaN</td>\n",
       "      <td>NaN</td>\n",
       "      <td>NaN</td>\n",
       "      <td>NaN</td>\n",
       "      <td>NaN</td>\n",
       "      <td>NaN</td>\n",
       "      <td>NaN</td>\n",
       "      <td>NaN</td>\n",
       "    </tr>\n",
       "    <tr>\n",
       "      <th>7</th>\n",
       "      <td>False</td>\n",
       "      <td>IF</td>\n",
       "      <td>LAX</td>\n",
       "      <td>Los Angeles CA 90045</td>\n",
       "      <td>Los Angeles</td>\n",
       "      <td>In shower at custom hotel in lax in room 606</td>\n",
       "      <td>No</td>\n",
       "      <td>9/2/2014</td>\n",
       "      <td>Summer</td>\n",
       "      <td>AM</td>\n",
       "      <td>...</td>\n",
       "      <td>NaN</td>\n",
       "      <td>NaN</td>\n",
       "      <td>NaN</td>\n",
       "      <td>NaN</td>\n",
       "      <td>NaN</td>\n",
       "      <td>NaN</td>\n",
       "      <td>NaN</td>\n",
       "      <td>NaN</td>\n",
       "      <td>NaN</td>\n",
       "      <td>NaN</td>\n",
       "    </tr>\n",
       "    <tr>\n",
       "      <th>8</th>\n",
       "      <td>False</td>\n",
       "      <td>CS</td>\n",
       "      <td>YUM</td>\n",
       "      <td>Yuma AZ 85365</td>\n",
       "      <td>Yuma</td>\n",
       "      <td>ramp</td>\n",
       "      <td>No</td>\n",
       "      <td>9/2/2014</td>\n",
       "      <td>Summer</td>\n",
       "      <td>PM</td>\n",
       "      <td>...</td>\n",
       "      <td>NaN</td>\n",
       "      <td>NaN</td>\n",
       "      <td>NaN</td>\n",
       "      <td>NaN</td>\n",
       "      <td>NaN</td>\n",
       "      <td>NaN</td>\n",
       "      <td>NaN</td>\n",
       "      <td>NaN</td>\n",
       "      <td>NaN</td>\n",
       "      <td>NaN</td>\n",
       "    </tr>\n",
       "    <tr>\n",
       "      <th>9</th>\n",
       "      <td>True</td>\n",
       "      <td>IF</td>\n",
       "      <td>SLC</td>\n",
       "      <td>Salt Lake City UT 84113</td>\n",
       "      <td>Salt Lake</td>\n",
       "      <td>Aft Galley</td>\n",
       "      <td>Yes</td>\n",
       "      <td>9/3/2014</td>\n",
       "      <td>Summer</td>\n",
       "      <td>PM</td>\n",
       "      <td>...</td>\n",
       "      <td>NaN</td>\n",
       "      <td>NaN</td>\n",
       "      <td>NaN</td>\n",
       "      <td>NaN</td>\n",
       "      <td>NaN</td>\n",
       "      <td>NaN</td>\n",
       "      <td>NaN</td>\n",
       "      <td>NaN</td>\n",
       "      <td>NaN</td>\n",
       "      <td>NaN</td>\n",
       "    </tr>\n",
       "  </tbody>\n",
       "</table>\n",
       "<p>10 rows × 79 columns</p>\n",
       "</div>"
      ],
      "text/plain": [
       "   OnCompany Property Department Injury Location  \\\n",
       "0                True         CS             SLC   \n",
       "1                True         CS             DEN   \n",
       "2                True         CS             DEN   \n",
       "3                True         CS             FCA   \n",
       "4                True         IF             ATL   \n",
       "5               False         FO             BNA   \n",
       "6               False         CS             JAC   \n",
       "7               False         IF             LAX   \n",
       "8               False         CS             YUM   \n",
       "9                True         IF             SLC   \n",
       "\n",
       "  Injury Location - City State Zip Injury Location - County/Country  \\\n",
       "0          Salt Lake City UT 84113                        Salt Lake   \n",
       "1                  Denver CO 80249                           Denver   \n",
       "2                  Denver CO 80249                           Denver   \n",
       "3               Kalispell MT 59901                         Flathead   \n",
       "4                 Atlanta GA 30320                              NaN   \n",
       "5               Nashville TN 37214                         Davidson   \n",
       "6            Jackson Hole WY 83001                            Teton   \n",
       "7             Los Angeles CA 90045                      Los Angeles   \n",
       "8                    Yuma AZ 85365                             Yuma   \n",
       "9          Salt Lake City UT 84113                        Salt Lake   \n",
       "\n",
       "                        Injury Location - Notes           Med Care Used  \\\n",
       "0                               The E Concourse                     Yes   \n",
       "1                                      Gates 52  Yes: Refused Initially   \n",
       "2                                      RAMP #54                     Yes   \n",
       "3                               bin of airplane                     Yes   \n",
       "4                                       Onboard                      No   \n",
       "5                                    Hotel Pool                     Yes   \n",
       "6                                          Ramp                     Yes   \n",
       "7  In shower at custom hotel in lax in room 606                      No   \n",
       "8                                          ramp                      No   \n",
       "9                                    Aft Galley                     Yes   \n",
       "\n",
       "  Reported Date  Season Shift  ... Baggage Involved.1 Baggage Location  \\\n",
       "0      9/2/2014  Summer    AM  ...                NaN              NaN   \n",
       "1      9/8/2014  Summer    AM  ...                NaN              NaN   \n",
       "2      9/1/2014  Summer    AM  ...                NaN              NaN   \n",
       "3    11/25/2014    Fall    PM  ...                NaN              NaN   \n",
       "4      9/3/2014  Summer    AM  ...                NaN              NaN   \n",
       "5      9/2/2014  Summer    AM  ...                NaN              NaN   \n",
       "6      9/2/2014  Summer    AM  ...                NaN              NaN   \n",
       "7      9/2/2014  Summer    AM  ...                NaN              NaN   \n",
       "8      9/2/2014  Summer    PM  ...                NaN              NaN   \n",
       "9      9/3/2014  Summer    PM  ...                NaN              NaN   \n",
       "\n",
       "  Whose Baggage Aircraft Equipment Aircraft Location Aircraft Movement  \\\n",
       "0           NaN                NaN               NaN               NaN   \n",
       "1           NaN                NaN               NaN               NaN   \n",
       "2           NaN                NaN               NaN               NaN   \n",
       "3           NaN                NaN               NaN               NaN   \n",
       "4           NaN                NaN               NaN               NaN   \n",
       "5           NaN                NaN               NaN               NaN   \n",
       "6           NaN                NaN               NaN               NaN   \n",
       "7           NaN                NaN               NaN               NaN   \n",
       "8           NaN                NaN               NaN               NaN   \n",
       "9           NaN                NaN               NaN               NaN   \n",
       "\n",
       "  Briefed of Turbulence Flight Phase Injury Location.1 Turbulence Contributed  \n",
       "0                   NaN          NaN               NaN                    NaN  \n",
       "1                   NaN          NaN               NaN                    NaN  \n",
       "2                   NaN          NaN               NaN                    NaN  \n",
       "3                   NaN          NaN               NaN                    NaN  \n",
       "4                   NaN          NaN               NaN                    NaN  \n",
       "5                   NaN          NaN               NaN                    NaN  \n",
       "6                   NaN          NaN               NaN                    NaN  \n",
       "7                   NaN          NaN               NaN                    NaN  \n",
       "8                   NaN          NaN               NaN                    NaN  \n",
       "9                   NaN          NaN               NaN                    NaN  \n",
       "\n",
       "[10 rows x 79 columns]"
      ]
     },
     "execution_count": 174,
     "metadata": {},
     "output_type": "execute_result"
    }
   ],
   "source": [
    "# Read the Data and store into a Pandas DataFrame\n",
    "SkyWest_df = pd.read_csv(SkyWest)\n",
    "\n",
    "#Check Data\n",
    "print(SkyWest_df)\n",
    "SkyWest_df.head(10)"
   ]
  },
  {
   "cell_type": "code",
   "execution_count": 175,
   "metadata": {},
   "outputs": [
    {
     "data": {
      "text/html": [
       "<div>\n",
       "<style scoped>\n",
       "    .dataframe tbody tr th:only-of-type {\n",
       "        vertical-align: middle;\n",
       "    }\n",
       "\n",
       "    .dataframe tbody tr th {\n",
       "        vertical-align: top;\n",
       "    }\n",
       "\n",
       "    .dataframe thead th {\n",
       "        text-align: right;\n",
       "    }\n",
       "</style>\n",
       "<table border=\"1\" class=\"dataframe\">\n",
       "  <thead>\n",
       "    <tr style=\"text-align: right;\">\n",
       "      <th></th>\n",
       "      <th>Belt Loader Available</th>\n",
       "    </tr>\n",
       "  </thead>\n",
       "  <tbody>\n",
       "    <tr>\n",
       "      <th>count</th>\n",
       "      <td>60.000000</td>\n",
       "    </tr>\n",
       "    <tr>\n",
       "      <th>mean</th>\n",
       "      <td>0.966667</td>\n",
       "    </tr>\n",
       "    <tr>\n",
       "      <th>std</th>\n",
       "      <td>0.735692</td>\n",
       "    </tr>\n",
       "    <tr>\n",
       "      <th>min</th>\n",
       "      <td>0.000000</td>\n",
       "    </tr>\n",
       "    <tr>\n",
       "      <th>25%</th>\n",
       "      <td>0.000000</td>\n",
       "    </tr>\n",
       "    <tr>\n",
       "      <th>50%</th>\n",
       "      <td>1.000000</td>\n",
       "    </tr>\n",
       "    <tr>\n",
       "      <th>75%</th>\n",
       "      <td>1.250000</td>\n",
       "    </tr>\n",
       "    <tr>\n",
       "      <th>max</th>\n",
       "      <td>2.000000</td>\n",
       "    </tr>\n",
       "  </tbody>\n",
       "</table>\n",
       "</div>"
      ],
      "text/plain": [
       "       Belt Loader Available\n",
       "count              60.000000\n",
       "mean                0.966667\n",
       "std                 0.735692\n",
       "min                 0.000000\n",
       "25%                 0.000000\n",
       "50%                 1.000000\n",
       "75%                 1.250000\n",
       "max                 2.000000"
      ]
     },
     "execution_count": 175,
     "metadata": {},
     "output_type": "execute_result"
    }
   ],
   "source": [
    "SkyWest_df.describe()"
   ]
  },
  {
   "cell_type": "code",
   "execution_count": 176,
   "metadata": {},
   "outputs": [
    {
     "data": {
      "text/plain": [
       "OnCompany Property                  372\n",
       "Department                          372\n",
       "Injury Location                     372\n",
       "Injury Location - City State Zip    372\n",
       "Injury Location - County/Country    321\n",
       "Injury Location - Notes             372\n",
       "Med Care Used                       372\n",
       "Reported Date                       372\n",
       "Season                              372\n",
       "Shift                               279\n",
       "dtype: int64"
      ]
     },
     "execution_count": 176,
     "metadata": {},
     "output_type": "execute_result"
    }
   ],
   "source": [
    "SkyWest_df.count().head(10)"
   ]
  },
  {
   "cell_type": "code",
   "execution_count": 177,
   "metadata": {},
   "outputs": [
    {
     "data": {
      "text/plain": [
       "<bound method DataFrame.isnull of      OnCompany Property Department Injury Location  \\\n",
       "0                  True         CS             SLC   \n",
       "1                  True         CS             DEN   \n",
       "2                  True         CS             DEN   \n",
       "3                  True         CS             FCA   \n",
       "4                  True         IF             ATL   \n",
       "..                  ...        ...             ...   \n",
       "367                True         CS             SFO   \n",
       "368                True         CS             SLC   \n",
       "369                True         CS             DRO   \n",
       "370                True         CS             GCC   \n",
       "371                True         CS             COS   \n",
       "\n",
       "    Injury Location - City State Zip Injury Location - County/Country  \\\n",
       "0            Salt Lake City UT 84113                        Salt Lake   \n",
       "1                    Denver CO 80249                           Denver   \n",
       "2                    Denver CO 80249                           Denver   \n",
       "3                 Kalispell MT 59901                         Flathead   \n",
       "4                   Atlanta GA 30320                              NaN   \n",
       "..                               ...                              ...   \n",
       "367           San Francisco CA 94128                    San Francisco   \n",
       "368          Salt Lake City UT 84113                        Salt Lake   \n",
       "369                 Durango CO 81303                          Durango   \n",
       "370                Gillette WY 82716                         Campbell   \n",
       "371        Colorado Springs CO 80916                          El Paso   \n",
       "\n",
       "                Injury Location - Notes           Med Care Used Reported Date  \\\n",
       "0                       The E Concourse                     Yes      9/2/2014   \n",
       "1                              Gates 52  Yes: Refused Initially      9/8/2014   \n",
       "2                              RAMP #54                     Yes      9/1/2014   \n",
       "3                       bin of airplane                     Yes    11/25/2014   \n",
       "4                               Onboard                      No      9/3/2014   \n",
       "..                                  ...                     ...           ...   \n",
       "367                         Ramp Stairs                      No    11/28/2014   \n",
       "368                         B Concourse  Yes: Refused Initially    11/30/2014   \n",
       "369                                Ramp                     Yes    11/30/2014   \n",
       "370  in cargo bin loading/stacking bags                      No    11/30/2014   \n",
       "371                     baggage service                     Yes     12/2/2014   \n",
       "\n",
       "     Season Shift  ... Baggage Involved.1 Baggage Location Whose Baggage  \\\n",
       "0    Summer    AM  ...                NaN              NaN           NaN   \n",
       "1    Summer    AM  ...                NaN              NaN           NaN   \n",
       "2    Summer    AM  ...                NaN              NaN           NaN   \n",
       "3      Fall    PM  ...                NaN              NaN           NaN   \n",
       "4    Summer    AM  ...                NaN              NaN           NaN   \n",
       "..      ...   ...  ...                ...              ...           ...   \n",
       "367    Fall    AM  ...                NaN              NaN           NaN   \n",
       "368    Fall   NaN  ...              False              NaN           NaN   \n",
       "369    Fall    AM  ...                NaN              NaN           NaN   \n",
       "370    Fall    AM  ...                NaN              NaN           NaN   \n",
       "371    Fall    PM  ...                NaN              NaN           NaN   \n",
       "\n",
       "    Aircraft Equipment Aircraft Location Aircraft Movement  \\\n",
       "0                  NaN               NaN               NaN   \n",
       "1                  NaN               NaN               NaN   \n",
       "2                  NaN               NaN               NaN   \n",
       "3                  NaN               NaN               NaN   \n",
       "4                  NaN               NaN               NaN   \n",
       "..                 ...               ...               ...   \n",
       "367                NaN               NaN               NaN   \n",
       "368           Jumpseat         In Flight               NaN   \n",
       "369                NaN               NaN               NaN   \n",
       "370                NaN               NaN               NaN   \n",
       "371                NaN               NaN               NaN   \n",
       "\n",
       "    Briefed of Turbulence Flight Phase      Injury Location.1  \\\n",
       "0                     NaN          NaN                    NaN   \n",
       "1                     NaN          NaN                    NaN   \n",
       "2                     NaN          NaN                    NaN   \n",
       "3                     NaN          NaN                    NaN   \n",
       "4                     NaN          NaN                    NaN   \n",
       "..                    ...          ...                    ...   \n",
       "367                   NaN          NaN                    NaN   \n",
       "368                   NaN          NaN  Forward/Rear Jumpseat   \n",
       "369                   NaN          NaN                    NaN   \n",
       "370                   NaN          NaN                    NaN   \n",
       "371                   NaN          NaN                    NaN   \n",
       "\n",
       "    Turbulence Contributed  \n",
       "0                      NaN  \n",
       "1                      NaN  \n",
       "2                      NaN  \n",
       "3                      NaN  \n",
       "4                      NaN  \n",
       "..                     ...  \n",
       "367                    NaN  \n",
       "368                  False  \n",
       "369                    NaN  \n",
       "370                    NaN  \n",
       "371                    NaN  \n",
       "\n",
       "[372 rows x 79 columns]>"
      ]
     },
     "execution_count": 177,
     "metadata": {},
     "output_type": "execute_result"
    }
   ],
   "source": [
    "# Lookng for missing values\n",
    "SkyWest_df.isnull"
   ]
  },
  {
   "cell_type": "code",
   "execution_count": 178,
   "metadata": {},
   "outputs": [
    {
     "data": {
      "text/plain": [
       "OnCompany Property                    bool\n",
       "Department                          object\n",
       "Injury Location                     object\n",
       "Injury Location - City State Zip    object\n",
       "Injury Location - County/Country    object\n",
       "                                     ...  \n",
       "Aircraft Movement                   object\n",
       "Briefed of Turbulence               object\n",
       "Flight Phase                        object\n",
       "Injury Location.1                   object\n",
       "Turbulence Contributed              object\n",
       "Length: 79, dtype: object"
      ]
     },
     "execution_count": 178,
     "metadata": {},
     "output_type": "execute_result"
    }
   ],
   "source": [
    "SkyWest_df.dtypes"
   ]
  },
  {
   "cell_type": "code",
   "execution_count": 179,
   "metadata": {},
   "outputs": [
    {
     "data": {
      "text/plain": [
       "dtype('O')"
      ]
     },
     "execution_count": 179,
     "metadata": {},
     "output_type": "execute_result"
    }
   ],
   "source": [
    "# Changing Data type from bool to object\n",
    "SkyWest_df[\"OnCompany Property\"] = SkyWest_df[\"OnCompany Property\"].astype(object)\n",
    "SkyWest_df[\"OnCompany Property\"].dtypes\n"
   ]
  },
  {
   "cell_type": "code",
   "execution_count": null,
   "metadata": {},
   "outputs": [],
   "source": []
  },
  {
   "cell_type": "code",
   "execution_count": 180,
   "metadata": {},
   "outputs": [],
   "source": [
    "# 5. Export the Dataframe as a new CSV file without the index.\n",
    "SkyWest_df.to_csv('SkyWest_df.csv',index=False)"
   ]
  },
  {
   "cell_type": "code",
   "execution_count": null,
   "metadata": {},
   "outputs": [],
   "source": []
  },
  {
   "cell_type": "code",
   "execution_count": 181,
   "metadata": {},
   "outputs": [
    {
     "data": {
      "text/plain": [
       "array([True, False], dtype=object)"
      ]
     },
     "execution_count": 181,
     "metadata": {},
     "output_type": "execute_result"
    }
   ],
   "source": [
    "# Displaying values in columns \n",
    "SkyWest_df[\"OnCompany Property\"].unique()"
   ]
  },
  {
   "cell_type": "code",
   "execution_count": 182,
   "metadata": {},
   "outputs": [
    {
     "data": {
      "text/plain": [
       "372"
      ]
     },
     "execution_count": 182,
     "metadata": {},
     "output_type": "execute_result"
    }
   ],
   "source": [
    "# Counting values in columns\n",
    "len(SkyWest_df[\"OnCompany Property\"])"
   ]
  },
  {
   "cell_type": "code",
   "execution_count": 183,
   "metadata": {},
   "outputs": [
    {
     "data": {
      "text/plain": [
       "True     311\n",
       "False     61\n",
       "Name: OnCompany Property, dtype: int64"
      ]
     },
     "execution_count": 183,
     "metadata": {},
     "output_type": "execute_result"
    }
   ],
   "source": [
    "# Counting values amount in columns\n",
    "SkyWest_df[\"OnCompany Property\"].value_counts()"
   ]
  },
  {
   "cell_type": "code",
   "execution_count": null,
   "metadata": {},
   "outputs": [],
   "source": []
  },
  {
   "cell_type": "code",
   "execution_count": 184,
   "metadata": {},
   "outputs": [
    {
     "data": {
      "text/plain": [
       "372"
      ]
     },
     "execution_count": 184,
     "metadata": {},
     "output_type": "execute_result"
    }
   ],
   "source": [
    "len(SkyWest_df[\"Department\"])"
   ]
  },
  {
   "cell_type": "code",
   "execution_count": 185,
   "metadata": {},
   "outputs": [
    {
     "data": {
      "text/plain": [
       "array(['CS', 'IF', 'FO', 'MX', 'PD'], dtype=object)"
      ]
     },
     "execution_count": 185,
     "metadata": {},
     "output_type": "execute_result"
    }
   ],
   "source": [
    "SkyWest_df[\"Department\"].unique()"
   ]
  },
  {
   "cell_type": "code",
   "execution_count": 186,
   "metadata": {},
   "outputs": [
    {
     "data": {
      "text/plain": [
       "CS    209\n",
       "IF    102\n",
       "MX     49\n",
       "FO     11\n",
       "PD      1\n",
       "Name: Department, dtype: int64"
      ]
     },
     "execution_count": 186,
     "metadata": {},
     "output_type": "execute_result"
    }
   ],
   "source": [
    "SkyWest_df[\"Department\"].value_counts()"
   ]
  },
  {
   "cell_type": "code",
   "execution_count": null,
   "metadata": {},
   "outputs": [],
   "source": []
  },
  {
   "cell_type": "code",
   "execution_count": 187,
   "metadata": {},
   "outputs": [
    {
     "data": {
      "text/plain": [
       "dtype('float64')"
      ]
     },
     "execution_count": 187,
     "metadata": {},
     "output_type": "execute_result"
    }
   ],
   "source": [
    "# Changing Data type from object to float\n",
    "SkyWest_df[\"OnCompany Property\"] = SkyWest_df[\"OnCompany Property\"].astype(float)\n",
    "SkyWest_df[\"OnCompany Property\"].dtypes"
   ]
  },
  {
   "cell_type": "code",
   "execution_count": null,
   "metadata": {},
   "outputs": [],
   "source": []
  },
  {
   "cell_type": "code",
   "execution_count": null,
   "metadata": {},
   "outputs": [
    {
     "data": {
      "text/plain": [
       "array([nan, 'No', 'Yes'], dtype=object)"
      ]
     },
     "execution_count": 150,
     "metadata": {},
     "output_type": "execute_result"
    }
   ],
   "source": [
    "SkyWest_df[\"Safeguard Available\"].unique()"
   ]
  },
  {
   "cell_type": "code",
   "execution_count": null,
   "metadata": {},
   "outputs": [
    {
     "data": {
      "text/plain": [
       "No     198\n",
       "Yes    154\n",
       "Name: Safeguard Available, dtype: int64"
      ]
     },
     "execution_count": 151,
     "metadata": {},
     "output_type": "execute_result"
    }
   ],
   "source": [
    "SkyWest_df[\"Safeguard Available\"].value_counts()"
   ]
  },
  {
   "cell_type": "code",
   "execution_count": null,
   "metadata": {},
   "outputs": [
    {
     "data": {
      "text/plain": [
       "372"
      ]
     },
     "execution_count": 152,
     "metadata": {},
     "output_type": "execute_result"
    }
   ],
   "source": [
    "len(SkyWest_df[\"Safeguard Available\"])"
   ]
  },
  {
   "cell_type": "code",
   "execution_count": null,
   "metadata": {},
   "outputs": [],
   "source": []
  }
 ],
 "metadata": {
  "kernelspec": {
   "display_name": "Python 3.7.13 64-bit ('mlenv')",
   "language": "python",
   "name": "python3"
  },
  "language_info": {
   "codemirror_mode": {
    "name": "ipython",
    "version": 3
   },
   "file_extension": ".py",
   "mimetype": "text/x-python",
   "name": "python",
   "nbconvert_exporter": "python",
   "pygments_lexer": "ipython3",
   "version": "3.7.13"
  },
  "orig_nbformat": 4,
  "vscode": {
   "interpreter": {
    "hash": "7f65d82f4c1e73ea25eb136576e537d81f4c3c3974241d16e266ab1e5110b0a7"
   }
  }
 },
 "nbformat": 4,
 "nbformat_minor": 2
}
